{
  "nbformat": 4,
  "nbformat_minor": 0,
  "metadata": {
    "colab": {
      "name": "Tensorflow2_0.ipynb",
      "provenance": [],
      "collapsed_sections": [],
      "include_colab_link": true
    },
    "kernelspec": {
      "name": "python3",
      "display_name": "Python 3"
    }
  },
  "cells": [
    {
      "cell_type": "markdown",
      "metadata": {
        "id": "view-in-github",
        "colab_type": "text"
      },
      "source": [
        "<a href=\"https://colab.research.google.com/github/Funmilayo-Aina/DEEP-LEARNING-PROJECTS/blob/main/Tensorflow2_0.ipynb\" target=\"_parent\"><img src=\"https://colab.research.google.com/assets/colab-badge.svg\" alt=\"Open In Colab\"/></a>"
      ]
    },
    {
      "cell_type": "code",
      "metadata": {
        "id": "Zk9FkAwi8Yhy",
        "colab": {
          "base_uri": "https://localhost:8080/",
          "height": 35
        },
        "outputId": "d8510843-258f-407c-93b7-cc4ccf263468"
      },
      "source": [
        "import tensorflow as tf\n",
        "import numpy as np\n",
        "\n",
        "# Lets check the current recommended Version \n",
        "tf.__version__"
      ],
      "execution_count": 2,
      "outputs": [
        {
          "output_type": "execute_result",
          "data": {
            "application/vnd.google.colaboratory.intrinsic+json": {
              "type": "string"
            },
            "text/plain": [
              "'2.6.0'"
            ]
          },
          "metadata": {},
          "execution_count": 2
        }
      ]
    },
    {
      "cell_type": "markdown",
      "metadata": {
        "id": "c1P7Z53f-3P7"
      },
      "source": [
        "Creating a Tensor"
      ]
    },
    {
      "cell_type": "code",
      "metadata": {
        "id": "dP64qWGA-6wY",
        "colab": {
          "base_uri": "https://localhost:8080/"
        },
        "outputId": "5f8bcf47-4a72-4d41-a260-416684c56910"
      },
      "source": [
        "# Rank 0 Tensor (Scaler)\n",
        "a = tf.constant(3)\n",
        "print(a) # 'a' is a Rank 0 Tensor (0 dimensional array) of Int32"
      ],
      "execution_count": 3,
      "outputs": [
        {
          "output_type": "stream",
          "text": [
            "tf.Tensor(3, shape=(), dtype=int32)\n"
          ],
          "name": "stdout"
        }
      ]
    },
    {
      "cell_type": "code",
      "metadata": {
        "id": "6O740PIL-8IZ",
        "colab": {
          "base_uri": "https://localhost:8080/"
        },
        "outputId": "4f2b6dcf-90e6-49a8-b6fc-446c060c5912"
      },
      "source": [
        "# Rank 1 Tensor \n",
        "b = tf.constant([1 , 2 , 3 , 4])\n",
        "print(b) # 'b' is a Rank 1 Tensor of Int32"
      ],
      "execution_count": null,
      "outputs": [
        {
          "output_type": "stream",
          "text": [
            "tf.Tensor([1 2 3 4], shape=(4,), dtype=int32)\n"
          ],
          "name": "stdout"
        }
      ]
    },
    {
      "cell_type": "code",
      "metadata": {
        "id": "cMx6MapE--KC",
        "colab": {
          "base_uri": "https://localhost:8080/"
        },
        "outputId": "ac4db96c-ddc2-465f-fd0c-50292817b9a3"
      },
      "source": [
        "# Rank 2 Tensor \n",
        "c = tf.constant([[1 , 2] , [3 , 4]])\n",
        "print(c) # 'c' is a Rank 2 Tensor of Int32\n",
        "\n",
        "# Similarly we can create Tensor of Any order "
      ],
      "execution_count": 4,
      "outputs": [
        {
          "output_type": "stream",
          "text": [
            "tf.Tensor(\n",
            "[[1 2]\n",
            " [3 4]], shape=(2, 2), dtype=int32)\n"
          ],
          "name": "stdout"
        }
      ]
    },
    {
      "cell_type": "markdown",
      "metadata": {
        "id": "AAswEOso_Ecy"
      },
      "source": [
        "Converting a Numy array to Tensor"
      ]
    },
    {
      "cell_type": "code",
      "metadata": {
        "id": "BN2aGu0O9ljv",
        "colab": {
          "base_uri": "https://localhost:8080/"
        },
        "outputId": "001d6e4a-044e-41f4-eae1-827998ccd86d"
      },
      "source": [
        "array = np.array([1 , 2 , 3 , 4])\n",
        "print(\" Before \" , array)\n",
        "array = tf.convert_to_tensor(array)\n",
        "print(\" After \" , array)"
      ],
      "execution_count": 5,
      "outputs": [
        {
          "output_type": "stream",
          "text": [
            " Before  [1 2 3 4]\n",
            " After  tf.Tensor([1 2 3 4], shape=(4,), dtype=int64)\n"
          ],
          "name": "stdout"
        }
      ]
    },
    {
      "cell_type": "markdown",
      "metadata": {
        "id": "ayKiVCQI_ruz"
      },
      "source": [
        "Arthematic operations on Tensor"
      ]
    },
    {
      "cell_type": "code",
      "metadata": {
        "id": "Pr15oLk2A3uj"
      },
      "source": [
        "# Sample 2D tensor\n",
        "tensor = tf.constant([[1 , 2] , [3 , 4]])"
      ],
      "execution_count": 6,
      "outputs": []
    },
    {
      "cell_type": "code",
      "metadata": {
        "id": "qH2GJtKMA5JA",
        "colab": {
          "base_uri": "https://localhost:8080/"
        },
        "outputId": "b5400613-4f85-4462-af98-0f7518cb1417"
      },
      "source": [
        "# Add 1 to all positions \n",
        "tensor = tf.add(tensor , 1)\n",
        "print(\" Added 1 \" , tensor)"
      ],
      "execution_count": 7,
      "outputs": [
        {
          "output_type": "stream",
          "text": [
            " Added 1  tf.Tensor(\n",
            "[[2 3]\n",
            " [4 5]], shape=(2, 2), dtype=int32)\n"
          ],
          "name": "stdout"
        }
      ]
    },
    {
      "cell_type": "code",
      "metadata": {
        "id": "2YGoQOv0A5pw",
        "colab": {
          "base_uri": "https://localhost:8080/"
        },
        "outputId": "90aedd43-fecc-4cc7-9d99-ab8e6daab8a8"
      },
      "source": [
        "# Sub 1 from all positions \n",
        "tensor = tf.subtract(tensor , 1)\n",
        "print(\" Subtracted 1 \" , tensor)"
      ],
      "execution_count": 8,
      "outputs": [
        {
          "output_type": "stream",
          "text": [
            " Subtracted 1  tf.Tensor(\n",
            "[[1 2]\n",
            " [3 4]], shape=(2, 2), dtype=int32)\n"
          ],
          "name": "stdout"
        }
      ]
    },
    {
      "cell_type": "code",
      "metadata": {
        "id": "rPeGicT1A5sY",
        "colab": {
          "base_uri": "https://localhost:8080/"
        },
        "outputId": "c5999b0a-e80c-4813-dc72-48abad940a28"
      },
      "source": [
        "# Div 2 on all positions \n",
        "tensor = tf.divide(tensor , 2)\n",
        "print(\" Divide by 2 \" , tensor)"
      ],
      "execution_count": 9,
      "outputs": [
        {
          "output_type": "stream",
          "text": [
            " Divide by 2  tf.Tensor(\n",
            "[[0.5 1. ]\n",
            " [1.5 2. ]], shape=(2, 2), dtype=float64)\n"
          ],
          "name": "stdout"
        }
      ]
    },
    {
      "cell_type": "code",
      "metadata": {
        "id": "ZS5BjhhiA5u1",
        "colab": {
          "base_uri": "https://localhost:8080/"
        },
        "outputId": "2db96134-3539-4ede-ca01-8f68b9ea69dd"
      },
      "source": [
        "# Multiply with 2 \n",
        "tensor = tf.multiply(tensor , 2)\n",
        "print(\" Multiply by 2 \" , tensor)\n",
        "\n",
        "# you can also perform arthematic operations over vectors "
      ],
      "execution_count": 10,
      "outputs": [
        {
          "output_type": "stream",
          "text": [
            " Multiply by 2  tf.Tensor(\n",
            "[[1. 2.]\n",
            " [3. 4.]], shape=(2, 2), dtype=float64)\n"
          ],
          "name": "stdout"
        }
      ]
    },
    {
      "cell_type": "markdown",
      "metadata": {
        "id": "3B_BGpzcBCRy"
      },
      "source": [
        "Matrix Multiplication"
      ]
    },
    {
      "cell_type": "code",
      "metadata": {
        "id": "oh40GZyr_6kO",
        "colab": {
          "base_uri": "https://localhost:8080/"
        },
        "outputId": "025c0011-a475-4ad0-9ead-e35d0aa94e7c"
      },
      "source": [
        "tensor = tf.constant([[1 , 2] , [3 , 4]])\n",
        "tf.matmul(tensor, tensor)"
      ],
      "execution_count": 11,
      "outputs": [
        {
          "output_type": "execute_result",
          "data": {
            "text/plain": [
              "<tf.Tensor: shape=(2, 2), dtype=int32, numpy=\n",
              "array([[ 7, 10],\n",
              "       [15, 22]], dtype=int32)>"
            ]
          },
          "metadata": {},
          "execution_count": 11
        }
      ]
    },
    {
      "cell_type": "code",
      "metadata": {
        "colab": {
          "base_uri": "https://localhost:8080/"
        },
        "id": "WUekI5uqDCRl",
        "outputId": "27e47220-a71d-4602-f15d-82c02a2c58b0"
      },
      "source": [
        "tf.multiply(tensor , tensor)"
      ],
      "execution_count": 12,
      "outputs": [
        {
          "output_type": "execute_result",
          "data": {
            "text/plain": [
              "<tf.Tensor: shape=(2, 2), dtype=int32, numpy=\n",
              "array([[ 1,  4],\n",
              "       [ 9, 16]], dtype=int32)>"
            ]
          },
          "metadata": {},
          "execution_count": 12
        }
      ]
    },
    {
      "cell_type": "markdown",
      "metadata": {
        "id": "XozvURkfDWAx"
      },
      "source": [
        "Activations"
      ]
    },
    {
      "cell_type": "code",
      "metadata": {
        "id": "K-Msi5WhETw7",
        "colab": {
          "base_uri": "https://localhost:8080/"
        },
        "outputId": "e66d1f8a-70fc-4334-c138-3aea5904a6dd"
      },
      "source": [
        "tensor = tf.constant([[1 , 2] , [5 , 10]] , dtype=tf.float64)\n",
        "tensor"
      ],
      "execution_count": 13,
      "outputs": [
        {
          "output_type": "execute_result",
          "data": {
            "text/plain": [
              "<tf.Tensor: shape=(2, 2), dtype=float64, numpy=\n",
              "array([[ 1.,  2.],\n",
              "       [ 5., 10.]])>"
            ]
          },
          "metadata": {},
          "execution_count": 13
        }
      ]
    },
    {
      "cell_type": "code",
      "metadata": {
        "id": "Lo-wPQvCDXL-",
        "colab": {
          "base_uri": "https://localhost:8080/"
        },
        "outputId": "b009f3eb-b332-4b08-d047-437ef2a5ffc4"
      },
      "source": [
        "# Applying softmax \n",
        "tf.nn.softmax(tensor)"
      ],
      "execution_count": null,
      "outputs": [
        {
          "output_type": "execute_result",
          "data": {
            "text/plain": [
              "<tf.Tensor: shape=(2, 2), dtype=float64, numpy=\n",
              "array([[0.26894142, 0.73105858],\n",
              "       [0.00669285, 0.99330715]])>"
            ]
          },
          "metadata": {},
          "execution_count": 15
        }
      ]
    },
    {
      "cell_type": "code",
      "metadata": {
        "id": "KQpt5UYuEV9I",
        "colab": {
          "base_uri": "https://localhost:8080/"
        },
        "outputId": "b2d35131-0a1c-45eb-dda9-e819c7eba230"
      },
      "source": [
        "# Applying sigmoid \n",
        "tf.nn.sigmoid(tensor)"
      ],
      "execution_count": 14,
      "outputs": [
        {
          "output_type": "execute_result",
          "data": {
            "text/plain": [
              "<tf.Tensor: shape=(2, 2), dtype=float64, numpy=\n",
              "array([[0.73105858, 0.88079708],\n",
              "       [0.99330715, 0.9999546 ]])>"
            ]
          },
          "metadata": {},
          "execution_count": 14
        }
      ]
    },
    {
      "cell_type": "code",
      "metadata": {
        "id": "hA4Fv2TmEZAJ",
        "colab": {
          "base_uri": "https://localhost:8080/"
        },
        "outputId": "16ba5adb-99ef-461d-f9d9-3b91d9bd6ccd"
      },
      "source": [
        "# Applying relu \n",
        "tf.nn.relu(tensor)"
      ],
      "execution_count": 15,
      "outputs": [
        {
          "output_type": "execute_result",
          "data": {
            "text/plain": [
              "<tf.Tensor: shape=(2, 2), dtype=float64, numpy=\n",
              "array([[ 1.,  2.],\n",
              "       [ 5., 10.]])>"
            ]
          },
          "metadata": {},
          "execution_count": 15
        }
      ]
    },
    {
      "cell_type": "code",
      "metadata": {
        "id": "EkPkHastEcxx",
        "colab": {
          "base_uri": "https://localhost:8080/"
        },
        "outputId": "3bd93e70-3960-4b82-bd6b-6d2896df18b6"
      },
      "source": [
        "# Applying lrelu \n",
        "tf.nn.leaky_relu(tensor)\n",
        "\n",
        "# Tensorflow has all the Activation functions built it and ready to use "
      ],
      "execution_count": 16,
      "outputs": [
        {
          "output_type": "execute_result",
          "data": {
            "text/plain": [
              "<tf.Tensor: shape=(2, 2), dtype=float64, numpy=\n",
              "array([[ 1.,  2.],\n",
              "       [ 5., 10.]])>"
            ]
          },
          "metadata": {},
          "execution_count": 16
        }
      ]
    },
    {
      "cell_type": "markdown",
      "metadata": {
        "id": "2pNjwj-gDexB"
      },
      "source": [
        "Optimizers"
      ]
    },
    {
      "cell_type": "code",
      "metadata": {
        "id": "IeG789GmDf_a",
        "colab": {
          "base_uri": "https://localhost:8080/"
        },
        "outputId": "baa13366-b146-453f-8ec4-014f0f11b1e2"
      },
      "source": [
        "# Tensorflow has all Optimizers that we discussed in the class \n",
        "\n",
        "Optimizer = tf.keras.optimizers.Adam()\n",
        "print(Optimizer) # Refers to Optimizer class created "
      ],
      "execution_count": 17,
      "outputs": [
        {
          "output_type": "stream",
          "text": [
            "<keras.optimizer_v2.adam.Adam object at 0x7fb6cba37e50>\n"
          ],
          "name": "stdout"
        }
      ]
    },
    {
      "cell_type": "markdown",
      "metadata": {
        "id": "Rx95sInuDgby"
      },
      "source": [
        "Basic Neural Network Structure"
      ]
    },
    {
      "cell_type": "code",
      "metadata": {
        "id": "PjDIyRYJDkbZ",
        "colab": {
          "base_uri": "https://localhost:8080/"
        },
        "outputId": "a838f8a1-70c4-400a-dea0-a95fa4722689"
      },
      "source": [
        "# Start your model with Sequential Object  \n",
        "model = tf.keras.models.Sequential()\n",
        "# Next add in your Input object and Specify the Dimension you want to pass in \n",
        "model.add(tf.keras.Input(shape=(10,)))\n",
        "# Add in your Neurons of 1st layer\n",
        "model.add(tf.keras.layers.Dense(32))\n",
        "# 2nd layer \n",
        "model.add(tf.keras.layers.Dense(16))\n",
        "\n",
        "# print summary to undertstand your neural network flow\n",
        "model.summary()"
      ],
      "execution_count": 18,
      "outputs": [
        {
          "output_type": "stream",
          "text": [
            "Model: \"sequential\"\n",
            "_________________________________________________________________\n",
            "Layer (type)                 Output Shape              Param #   \n",
            "=================================================================\n",
            "dense (Dense)                (None, 32)                352       \n",
            "_________________________________________________________________\n",
            "dense_1 (Dense)              (None, 16)                528       \n",
            "=================================================================\n",
            "Total params: 880\n",
            "Trainable params: 880\n",
            "Non-trainable params: 0\n",
            "_________________________________________________________________\n"
          ],
          "name": "stdout"
        }
      ]
    }
  ]
}