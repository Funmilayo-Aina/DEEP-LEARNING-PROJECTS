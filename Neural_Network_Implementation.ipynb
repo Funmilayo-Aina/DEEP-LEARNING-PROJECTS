{
  "nbformat": 4,
  "nbformat_minor": 0,
  "metadata": {
    "colab": {
      "name": "Neural Network Implementation.ipynb",
      "provenance": [],
      "authorship_tag": "ABX9TyOuYBNKg+B8Xkp+k0maV/Ir",
      "include_colab_link": true
    },
    "kernelspec": {
      "name": "python3",
      "display_name": "Python 3"
    },
    "language_info": {
      "name": "python"
    }
  },
  "cells": [
    {
      "cell_type": "markdown",
      "metadata": {
        "id": "view-in-github",
        "colab_type": "text"
      },
      "source": [
        "<a href=\"https://colab.research.google.com/github/Funmilayo-Aina/DEEP-LEARNING-PROJECTS/blob/main/Neural_Network_Implementation.ipynb\" target=\"_parent\"><img src=\"https://colab.research.google.com/assets/colab-badge.svg\" alt=\"Open In Colab\"/></a>"
      ]
    },
    {
      "cell_type": "code",
      "metadata": {
        "id": "PhkkG3uqTtZB"
      },
      "source": [
        "#Importing Libraries\n",
        "\n",
        "import pandas as pd \n",
        "import numpy as np \n",
        "import matplotlib.pyplot as plt \n",
        "import tensorflow as tf\n",
        "from sklearn.preprocessing import LabelEncoder\n",
        "from sklearn.model_selection import train_test_split\n"
      ],
      "execution_count": null,
      "outputs": []
    },
    {
      "cell_type": "code",
      "metadata": {
        "colab": {
          "base_uri": "https://localhost:8080/",
          "height": 35
        },
        "id": "qbfIp743VQFj",
        "outputId": "14004c99-52b0-4535-d680-38fc88af50fb"
      },
      "source": [
        "# Lets check the current recommended Version \n",
        "tf.__version__"
      ],
      "execution_count": null,
      "outputs": [
        {
          "output_type": "execute_result",
          "data": {
            "application/vnd.google.colaboratory.intrinsic+json": {
              "type": "string"
            },
            "text/plain": [
              "'2.6.0'"
            ]
          },
          "metadata": {},
          "execution_count": 57
        }
      ]
    },
    {
      "cell_type": "code",
      "metadata": {
        "id": "XjkNkiYIVbAy"
      },
      "source": [
        "data = pd.read_excel(\"/content/02 Churn-Dataset (1).xlsx\")"
      ],
      "execution_count": null,
      "outputs": []
    },
    {
      "cell_type": "code",
      "metadata": {
        "colab": {
          "base_uri": "https://localhost:8080/",
          "height": 118
        },
        "id": "8kn2VdzsXRTd",
        "outputId": "6eae3ff1-6849-429b-ae83-3e8aae65753f"
      },
      "source": [
        "data.head(1)"
      ],
      "execution_count": null,
      "outputs": [
        {
          "output_type": "execute_result",
          "data": {
            "text/html": [
              "<div>\n",
              "<style scoped>\n",
              "    .dataframe tbody tr th:only-of-type {\n",
              "        vertical-align: middle;\n",
              "    }\n",
              "\n",
              "    .dataframe tbody tr th {\n",
              "        vertical-align: top;\n",
              "    }\n",
              "\n",
              "    .dataframe thead th {\n",
              "        text-align: right;\n",
              "    }\n",
              "</style>\n",
              "<table border=\"1\" class=\"dataframe\">\n",
              "  <thead>\n",
              "    <tr style=\"text-align: right;\">\n",
              "      <th></th>\n",
              "      <th>customerID</th>\n",
              "      <th>gender</th>\n",
              "      <th>SeniorCitizen</th>\n",
              "      <th>Partner</th>\n",
              "      <th>Dependents</th>\n",
              "      <th>tenure</th>\n",
              "      <th>PhoneService</th>\n",
              "      <th>MultipleLines</th>\n",
              "      <th>InternetService</th>\n",
              "      <th>OnlineSecurity</th>\n",
              "      <th>OnlineBackup</th>\n",
              "      <th>DeviceProtection</th>\n",
              "      <th>TechSupport</th>\n",
              "      <th>StreamingTV</th>\n",
              "      <th>StreamingMovies</th>\n",
              "      <th>Contract</th>\n",
              "      <th>PaperlessBilling</th>\n",
              "      <th>PaymentMethod</th>\n",
              "      <th>MonthlyCharges</th>\n",
              "      <th>TotalCharges</th>\n",
              "      <th>numAdminTickets</th>\n",
              "      <th>numTechTickets</th>\n",
              "      <th>Churn</th>\n",
              "    </tr>\n",
              "  </thead>\n",
              "  <tbody>\n",
              "    <tr>\n",
              "      <th>0</th>\n",
              "      <td>4472-LVYGI</td>\n",
              "      <td>Female</td>\n",
              "      <td>0</td>\n",
              "      <td>Yes</td>\n",
              "      <td>Yes</td>\n",
              "      <td>0</td>\n",
              "      <td>No</td>\n",
              "      <td>No phone service</td>\n",
              "      <td>DSL</td>\n",
              "      <td>Yes</td>\n",
              "      <td>No</td>\n",
              "      <td>Yes</td>\n",
              "      <td>Yes</td>\n",
              "      <td>Yes</td>\n",
              "      <td>No</td>\n",
              "      <td>Two year</td>\n",
              "      <td>Yes</td>\n",
              "      <td>Bank transfer (automatic)</td>\n",
              "      <td>52.55</td>\n",
              "      <td>0.0</td>\n",
              "      <td>0</td>\n",
              "      <td>0</td>\n",
              "      <td>No</td>\n",
              "    </tr>\n",
              "  </tbody>\n",
              "</table>\n",
              "</div>"
            ],
            "text/plain": [
              "   customerID  gender  SeniorCitizen  ... numAdminTickets numTechTickets  Churn\n",
              "0  4472-LVYGI  Female              0  ...               0              0     No\n",
              "\n",
              "[1 rows x 23 columns]"
            ]
          },
          "metadata": {},
          "execution_count": 59
        }
      ]
    },
    {
      "cell_type": "code",
      "metadata": {
        "id": "jCicvkoAXRl7"
      },
      "source": [
        "data.drop(['customerID','Partner'], axis=1,inplace = True)"
      ],
      "execution_count": null,
      "outputs": []
    },
    {
      "cell_type": "code",
      "metadata": {
        "colab": {
          "base_uri": "https://localhost:8080/"
        },
        "id": "FCO1mDU9aHAA",
        "outputId": "4d6720fc-a15c-40a5-da3c-5aacfab047c5"
      },
      "source": [
        "#Check for missing values\n",
        "data.isnull().sum()"
      ],
      "execution_count": null,
      "outputs": [
        {
          "output_type": "execute_result",
          "data": {
            "text/plain": [
              "gender              0\n",
              "SeniorCitizen       0\n",
              "Dependents          0\n",
              "tenure              0\n",
              "PhoneService        0\n",
              "MultipleLines       0\n",
              "InternetService     0\n",
              "OnlineSecurity      0\n",
              "OnlineBackup        0\n",
              "DeviceProtection    0\n",
              "TechSupport         0\n",
              "StreamingTV         0\n",
              "StreamingMovies     0\n",
              "Contract            0\n",
              "PaperlessBilling    0\n",
              "PaymentMethod       0\n",
              "MonthlyCharges      0\n",
              "TotalCharges        0\n",
              "numAdminTickets     0\n",
              "numTechTickets      0\n",
              "Churn               0\n",
              "dtype: int64"
            ]
          },
          "metadata": {},
          "execution_count": 61
        }
      ]
    },
    {
      "cell_type": "code",
      "metadata": {
        "colab": {
          "base_uri": "https://localhost:8080/"
        },
        "id": "pZ1DiAZiaHWI",
        "outputId": "69cf9a69-d5dc-446c-8836-ca77cd7a8624"
      },
      "source": [
        "#check for objects datatypes\n",
        "data.info()"
      ],
      "execution_count": null,
      "outputs": [
        {
          "output_type": "stream",
          "text": [
            "<class 'pandas.core.frame.DataFrame'>\n",
            "RangeIndex: 7043 entries, 0 to 7042\n",
            "Data columns (total 21 columns):\n",
            " #   Column            Non-Null Count  Dtype  \n",
            "---  ------            --------------  -----  \n",
            " 0   gender            7043 non-null   object \n",
            " 1   SeniorCitizen     7043 non-null   int64  \n",
            " 2   Dependents        7043 non-null   object \n",
            " 3   tenure            7043 non-null   int64  \n",
            " 4   PhoneService      7043 non-null   object \n",
            " 5   MultipleLines     7043 non-null   object \n",
            " 6   InternetService   7043 non-null   object \n",
            " 7   OnlineSecurity    7043 non-null   object \n",
            " 8   OnlineBackup      7043 non-null   object \n",
            " 9   DeviceProtection  7043 non-null   object \n",
            " 10  TechSupport       7043 non-null   object \n",
            " 11  StreamingTV       7043 non-null   object \n",
            " 12  StreamingMovies   7043 non-null   object \n",
            " 13  Contract          7043 non-null   object \n",
            " 14  PaperlessBilling  7043 non-null   object \n",
            " 15  PaymentMethod     7043 non-null   object \n",
            " 16  MonthlyCharges    7043 non-null   float64\n",
            " 17  TotalCharges      7043 non-null   float64\n",
            " 18  numAdminTickets   7043 non-null   int64  \n",
            " 19  numTechTickets    7043 non-null   int64  \n",
            " 20  Churn             7043 non-null   object \n",
            "dtypes: float64(2), int64(4), object(15)\n",
            "memory usage: 1.1+ MB\n"
          ],
          "name": "stdout"
        }
      ]
    },
    {
      "cell_type": "code",
      "metadata": {
        "id": "DWbykj6Payly"
      },
      "source": [
        "# Converting object dtypes to intdtypes to build a predictive model\n"
      ],
      "execution_count": null,
      "outputs": []
    },
    {
      "cell_type": "code",
      "metadata": {
        "colab": {
          "base_uri": "https://localhost:8080/"
        },
        "id": "9BDB8_7Way6r",
        "outputId": "ea11d2f8-2979-4a17-d06d-dbaa177c607d"
      },
      "source": [
        "data_types_dict = dict(data.dtypes)\n",
        "# keep track Mappings Column name to LabelEncoders\n",
        "Label_encoder_collection = {}\n",
        "for col_name, data_type in data_types_dict.items():\n",
        "    if data_type == 'object':\n",
        "        Le = LabelEncoder()\n",
        "        data[col_name] = Le.fit_transform(data[col_name])\n",
        "        Label_encoder_collection[col_name] =Le\n",
        "data.info()"
      ],
      "execution_count": null,
      "outputs": [
        {
          "output_type": "stream",
          "text": [
            "<class 'pandas.core.frame.DataFrame'>\n",
            "RangeIndex: 7043 entries, 0 to 7042\n",
            "Data columns (total 21 columns):\n",
            " #   Column            Non-Null Count  Dtype  \n",
            "---  ------            --------------  -----  \n",
            " 0   gender            7043 non-null   int64  \n",
            " 1   SeniorCitizen     7043 non-null   int64  \n",
            " 2   Dependents        7043 non-null   int64  \n",
            " 3   tenure            7043 non-null   int64  \n",
            " 4   PhoneService      7043 non-null   int64  \n",
            " 5   MultipleLines     7043 non-null   int64  \n",
            " 6   InternetService   7043 non-null   int64  \n",
            " 7   OnlineSecurity    7043 non-null   int64  \n",
            " 8   OnlineBackup      7043 non-null   int64  \n",
            " 9   DeviceProtection  7043 non-null   int64  \n",
            " 10  TechSupport       7043 non-null   int64  \n",
            " 11  StreamingTV       7043 non-null   int64  \n",
            " 12  StreamingMovies   7043 non-null   int64  \n",
            " 13  Contract          7043 non-null   int64  \n",
            " 14  PaperlessBilling  7043 non-null   int64  \n",
            " 15  PaymentMethod     7043 non-null   int64  \n",
            " 16  MonthlyCharges    7043 non-null   float64\n",
            " 17  TotalCharges      7043 non-null   float64\n",
            " 18  numAdminTickets   7043 non-null   int64  \n",
            " 19  numTechTickets    7043 non-null   int64  \n",
            " 20  Churn             7043 non-null   int64  \n",
            "dtypes: float64(2), int64(19)\n",
            "memory usage: 1.1 MB\n"
          ],
          "name": "stdout"
        }
      ]
    },
    {
      "cell_type": "code",
      "metadata": {
        "id": "paVsX-3Fpv_c"
      },
      "source": [
        "X = data.iloc[: , :-1].values.astype(np.float32)\n",
        "Y = data.iloc[: , -1].values.astype(int)"
      ],
      "execution_count": null,
      "outputs": []
    },
    {
      "cell_type": "code",
      "metadata": {
        "id": "eGTJKmIcMRyX"
      },
      "source": [
        "from sklearn.utils.class_weight import compute_class_weight\n",
        "\n",
        "class_weights = compute_class_weight(class_weight = 'balanced', classes= np.unique(Ytrain),y=Ytrain)\n",
        "\n",
        "model_class_weights= {}\n",
        "for e , weight in enumerate(class_weights):\n",
        "     model_class_weights[e] = weight\n"
      ],
      "execution_count": null,
      "outputs": []
    },
    {
      "cell_type": "code",
      "metadata": {
        "colab": {
          "base_uri": "https://localhost:8080/"
        },
        "id": "X8r6hGQZNuMm",
        "outputId": "c07a884d-b91d-4d5b-ee55-721b1a8ece9c"
      },
      "source": [
        "  model_class_weights"
      ],
      "execution_count": null,
      "outputs": [
        {
          "output_type": "execute_result",
          "data": {
            "text/plain": [
              "{0: 0.6847350510452115, 1: 1.8532894736842105}"
            ]
          },
          "metadata": {},
          "execution_count": 100
        }
      ]
    },
    {
      "cell_type": "code",
      "metadata": {
        "id": "-dL_3rsQN_bc"
      },
      "source": [
        ""
      ],
      "execution_count": null,
      "outputs": []
    },
    {
      "cell_type": "code",
      "metadata": {
        "id": "toUEIs7SOAIn"
      },
      "source": [
        ""
      ],
      "execution_count": null,
      "outputs": []
    },
    {
      "cell_type": "code",
      "metadata": {
        "id": "G4Bb4BS2rHkY"
      },
      "source": [
        "Xtrain, Xtest,Ytrain, Ytest = train_test_split(X,Y, test_size =0.2, random_state =4)"
      ],
      "execution_count": null,
      "outputs": []
    },
    {
      "cell_type": "code",
      "metadata": {
        "colab": {
          "base_uri": "https://localhost:8080/"
        },
        "id": "KuGY4YdQr0_M",
        "outputId": "6817781b-7244-46ed-e683-d5f4f9f6d8fc"
      },
      "source": [
        "## Building our Neural Networks.\n",
        "\n",
        "# Start your model with Sequential Object  \n",
        "model = tf.keras.models.Sequential()\n",
        "# Next add in your Input object and Specify the Dimension you want to pass in \n",
        "model.add(tf.keras.Input(shape=(20,)))\n",
        "model.add(tf.keras.layers.BatchNormalization())\n",
        "model.add(tf.keras.layers.Dense(128 ,activation='relu'))\n",
        "model.add(tf.keras.layers.Dropout(0.2))\n",
        "model.add(tf.keras.layers.BatchNormalization())\n",
        "# Add in your Neurons of 1st layer\n",
        "model.add(tf.keras.layers.Dense(64 ,activation='relu'))\n",
        "model.add(tf.keras.layers.Dropout(0.2))\n",
        "model.add(tf.keras.layers.BatchNormalization())\n",
        "model.add(tf.keras.layers.Dense(32 ,activation='relu'))\n",
        "## final sigmoid layer to predict(0/1)\n",
        "model.add(tf.keras.layers.Dense(1 , activation='sigmoid'))\n",
        "\n",
        "# print summary to undertstand your neural network flow\n",
        "model.summary()"
      ],
      "execution_count": null,
      "outputs": [
        {
          "output_type": "stream",
          "text": [
            "Model: \"sequential_5\"\n",
            "_________________________________________________________________\n",
            "Layer (type)                 Output Shape              Param #   \n",
            "=================================================================\n",
            "batch_normalization (BatchNo (None, 20)                80        \n",
            "_________________________________________________________________\n",
            "dense_15 (Dense)             (None, 128)               2688      \n",
            "_________________________________________________________________\n",
            "dropout (Dropout)            (None, 128)               0         \n",
            "_________________________________________________________________\n",
            "batch_normalization_1 (Batch (None, 128)               512       \n",
            "_________________________________________________________________\n",
            "dense_16 (Dense)             (None, 64)                8256      \n",
            "_________________________________________________________________\n",
            "dropout_1 (Dropout)          (None, 64)                0         \n",
            "_________________________________________________________________\n",
            "batch_normalization_2 (Batch (None, 64)                256       \n",
            "_________________________________________________________________\n",
            "dense_17 (Dense)             (None, 32)                2080      \n",
            "_________________________________________________________________\n",
            "dense_18 (Dense)             (None, 1)                 33        \n",
            "=================================================================\n",
            "Total params: 13,905\n",
            "Trainable params: 13,481\n",
            "Non-trainable params: 424\n",
            "_________________________________________________________________\n"
          ],
          "name": "stdout"
        }
      ]
    },
    {
      "cell_type": "code",
      "metadata": {
        "id": "OratJ0ABvHN0"
      },
      "source": [
        "Create optimizer"
      ],
      "execution_count": null,
      "outputs": []
    },
    {
      "cell_type": "code",
      "metadata": {
        "id": "KYkxuEokvJnZ"
      },
      "source": [
        "Optimizer = tf.keras.optimizers.Adam(learning_rate= 0.001)\n",
        "model.compile(Optimizer, loss = 'binary_crossentropy',metrics=[\"accuracy\"])"
      ],
      "execution_count": null,
      "outputs": []
    },
    {
      "cell_type": "code",
      "metadata": {
        "colab": {
          "base_uri": "https://localhost:8080/"
        },
        "id": "HOzENDW3vxii",
        "outputId": "0ca8ebea-3186-44f9-f3c2-cff6d90fdaae"
      },
      "source": [
        " history = model.fit(Xtrain,Ytrain,validation_data=(Xtest,Ytest) , epochs=20)"
      ],
      "execution_count": null,
      "outputs": [
        {
          "output_type": "stream",
          "text": [
            "Epoch 1/20\n",
            "177/177 [==============================] - 2s 4ms/step - loss: 0.4761 - accuracy: 0.7680 - val_loss: 0.3548 - val_accuracy: 0.8325\n",
            "Epoch 2/20\n",
            "177/177 [==============================] - 0s 3ms/step - loss: 0.3572 - accuracy: 0.8273 - val_loss: 0.3351 - val_accuracy: 0.8396\n",
            "Epoch 3/20\n",
            "177/177 [==============================] - 0s 3ms/step - loss: 0.3405 - accuracy: 0.8348 - val_loss: 0.3311 - val_accuracy: 0.8410\n",
            "Epoch 4/20\n",
            "177/177 [==============================] - 0s 3ms/step - loss: 0.3327 - accuracy: 0.8449 - val_loss: 0.3223 - val_accuracy: 0.8510\n",
            "Epoch 5/20\n",
            "177/177 [==============================] - 0s 3ms/step - loss: 0.3201 - accuracy: 0.8497 - val_loss: 0.3167 - val_accuracy: 0.8510\n",
            "Epoch 6/20\n",
            "177/177 [==============================] - 0s 3ms/step - loss: 0.3258 - accuracy: 0.8415 - val_loss: 0.3235 - val_accuracy: 0.8460\n",
            "Epoch 7/20\n",
            "177/177 [==============================] - 0s 3ms/step - loss: 0.3192 - accuracy: 0.8500 - val_loss: 0.3191 - val_accuracy: 0.8524\n",
            "Epoch 8/20\n",
            "177/177 [==============================] - 0s 3ms/step - loss: 0.3115 - accuracy: 0.8482 - val_loss: 0.3193 - val_accuracy: 0.8517\n",
            "Epoch 9/20\n",
            "177/177 [==============================] - 0s 3ms/step - loss: 0.3072 - accuracy: 0.8536 - val_loss: 0.3187 - val_accuracy: 0.8460\n",
            "Epoch 10/20\n",
            "177/177 [==============================] - 0s 3ms/step - loss: 0.3112 - accuracy: 0.8507 - val_loss: 0.3193 - val_accuracy: 0.8517\n",
            "Epoch 11/20\n",
            "177/177 [==============================] - 0s 3ms/step - loss: 0.3161 - accuracy: 0.8488 - val_loss: 0.3162 - val_accuracy: 0.8495\n",
            "Epoch 12/20\n",
            "177/177 [==============================] - 1s 3ms/step - loss: 0.3041 - accuracy: 0.8550 - val_loss: 0.3189 - val_accuracy: 0.8517\n",
            "Epoch 13/20\n",
            "177/177 [==============================] - 1s 3ms/step - loss: 0.3105 - accuracy: 0.8569 - val_loss: 0.3181 - val_accuracy: 0.8467\n",
            "Epoch 14/20\n",
            "177/177 [==============================] - 0s 3ms/step - loss: 0.2993 - accuracy: 0.8598 - val_loss: 0.3203 - val_accuracy: 0.8446\n",
            "Epoch 15/20\n",
            "177/177 [==============================] - 0s 3ms/step - loss: 0.3028 - accuracy: 0.8596 - val_loss: 0.3169 - val_accuracy: 0.8517\n",
            "Epoch 16/20\n",
            "177/177 [==============================] - 1s 3ms/step - loss: 0.3020 - accuracy: 0.8559 - val_loss: 0.3194 - val_accuracy: 0.8474\n",
            "Epoch 17/20\n",
            "177/177 [==============================] - 0s 3ms/step - loss: 0.3069 - accuracy: 0.8525 - val_loss: 0.3167 - val_accuracy: 0.8517\n",
            "Epoch 18/20\n",
            "177/177 [==============================] - 0s 3ms/step - loss: 0.2992 - accuracy: 0.8566 - val_loss: 0.3217 - val_accuracy: 0.8474\n",
            "Epoch 19/20\n",
            "177/177 [==============================] - 1s 3ms/step - loss: 0.3052 - accuracy: 0.8546 - val_loss: 0.3257 - val_accuracy: 0.8481\n",
            "Epoch 20/20\n",
            "177/177 [==============================] - 0s 3ms/step - loss: 0.2955 - accuracy: 0.8580 - val_loss: 0.3269 - val_accuracy: 0.8467\n"
          ],
          "name": "stdout"
        }
      ]
    },
    {
      "cell_type": "code",
      "metadata": {
        "colab": {
          "base_uri": "https://localhost:8080/",
          "height": 573
        },
        "id": "YSCyFW4pvx5y",
        "outputId": "27833f15-ae97-475d-87f2-b80fbc9453d7"
      },
      "source": [
        "plt.plot(history.history['accuracy'])\n",
        "plt.plot(history.history['val_accuracy'])\n",
        "plt.title('model accuracy')\n",
        "plt.ylabel('accuracy')\n",
        "plt.xlabel('epoch')\n",
        "plt.legend(['train', 'validation'], loc= 'upper left')\n",
        "plt.show()\n",
        "#  Loss plot\n",
        "\n",
        "plt.plot(history.history['loss'])\n",
        "plt.plot(history.history['val_loss'])\n",
        "plt.title('model loss')\n",
        "plt.ylabel('loss')\n",
        "plt.xlabel('epoch')\n",
        "plt.legend(['train', 'validation'], loc = 'upper left')\n",
        "plt.show()"
      ],
      "execution_count": null,
      "outputs": [
        {
          "output_type": "display_data",
          "data": {
            "image/png": "[encoded data removed]",
            "text/plain": [
              "<Figure size 432x288 with 1 Axes>"
            ]
          },
          "metadata": {
            "needs_background": "light"
          }
        },
        {
          "output_type": "display_data",
          "data": {
            "image/png": "[encoded data removed]",
            "text/plain": [
              "<Figure size 432x288 with 1 Axes>"
            ]
          },
          "metadata": {
            "needs_background": "light"
          }
        }
      ]
    },
    {
      "cell_type": "code",
      "metadata": {
        "id": "nZNW8f8SJ2Ev"
      },
      "source": [
        "# Collect predictions\n",
        "predictions = np.round(model.predict(Xtest))"
      ],
      "execution_count": null,
      "outputs": []
    },
    {
      "cell_type": "code",
      "metadata": {
        "colab": {
          "base_uri": "https://localhost:8080/"
        },
        "id": "aHnGuMOtKJo7",
        "outputId": "ea64d94e-7236-44bc-d8f1-7d914f51a20c"
      },
      "source": [
        "#Check accuracy\n",
        "from sklearn.metrics import accuracy_score , confusion_matrix\n",
        "accuracy_score(Ytest,predictions) # Accuracy seems good"
      ],
      "execution_count": null,
      "outputs": [
        {
          "output_type": "execute_result",
          "data": {
            "text/plain": [
              "0.8466997870830376"
            ]
          },
          "metadata": {},
          "execution_count": 106
        }
      ]
    },
    {
      "cell_type": "code",
      "metadata": {
        "colab": {
          "base_uri": "https://localhost:8080/"
        },
        "id": "z8uW-xpqKNOA",
        "outputId": "335217b2-c349-4214-b679-2bfc3f01159f"
      },
      "source": [
        "confusion_matrix(Ytest, predictions)"
      ],
      "execution_count": null,
      "outputs": [
        {
          "output_type": "execute_result",
          "data": {
            "text/plain": [
              "array([[941, 119],\n",
              "       [ 97, 252]])"
            ]
          },
          "metadata": {},
          "execution_count": 107
        }
      ]
    },
    {
      "cell_type": "code",
      "metadata": {
        "id": "hCYYah_3LxpN"
      },
      "source": [
        ""
      ],
      "execution_count": null,
      "outputs": []
    },
    {
      "cell_type": "code",
      "metadata": {
        "id": "wJGxwhScLyCJ"
      },
      "source": [
        ""
      ],
      "execution_count": null,
      "outputs": []
    }
  ]
}